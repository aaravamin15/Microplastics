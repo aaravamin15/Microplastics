{
 "cells": [
  {
   "cell_type": "code",
   "execution_count": 7,
   "metadata": {},
   "outputs": [
    {
     "name": "stdout",
     "output_type": "stream",
     "text": [
      "Initial dataset shape: (607, 115)\n",
      "\n",
      "Missing values in Drinking Water latitude/longitude columns:\n",
      "Approximate_Latitude     155\n",
      "Approximate_Longitude    155\n",
      "dtype: int64\n",
      "Initial dataset shape: (18446, 22)\n",
      "\n",
      "Missing values in Marine Microplastics latitude/longitude columns:\n",
      "<bound method DataFrame.sum of        Latitude  Longitude\n",
      "0         False      False\n",
      "1         False      False\n",
      "2         False      False\n",
      "3         False      False\n",
      "4         False      False\n",
      "...         ...        ...\n",
      "18441     False      False\n",
      "18442     False      False\n",
      "18443     False      False\n",
      "18444     False      False\n",
      "18445     False      False\n",
      "\n",
      "[18446 rows x 2 columns]>\n"
     ]
    }
   ],
   "source": [
    "import pandas as pd\n",
    "import numpy as np\n",
    "\n",
    "df = pd.read_csv('Drinking_Water.csv')\n",
    "ds = pd.read_csv('Marine_Microplastics.csv')\n",
    "\n",
    "# Display initial info\n",
    "print(\"Initial dataset shape:\", df.shape)\n",
    "print(\"\\nMissing values in Drinking Water latitude/longitude columns:\")\n",
    "print(df[['Approximate_Latitude', 'Approximate_Longitude']].isnull().sum())\n",
    "\n",
    "print(\"Initial dataset shape:\", ds.shape)\n",
    "print(\"\\nMissing values in Marine Microplastics latitude/longitude columns:\")\n",
    "print(ds[['Latitude', 'Longitude']].isnull().sum)"
   ]
  }
 ],
 "metadata": {
  "kernelspec": {
   "display_name": "Python 3",
   "language": "python",
   "name": "python3"
  },
  "language_info": {
   "codemirror_mode": {
    "name": "ipython",
    "version": 3
   },
   "file_extension": ".py",
   "mimetype": "text/x-python",
   "name": "python",
   "nbconvert_exporter": "python",
   "pygments_lexer": "ipython3",
   "version": "3.9.6"
  }
 },
 "nbformat": 4,
 "nbformat_minor": 2
}
